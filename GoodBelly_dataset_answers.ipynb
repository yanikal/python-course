{
  "cells": [
    {
      "cell_type": "markdown",
      "metadata": {
        "id": "view-in-github",
        "colab_type": "text"
      },
      "source": [
        "<a href=\"https://colab.research.google.com/github/yanikal/python-course/blob/main/GoodBelly_dataset_answers.ipynb\" target=\"_parent\"><img src=\"https://colab.research.google.com/assets/colab-badge.svg\" alt=\"Open In Colab\"/></a>"
      ]
    },
    {
      "cell_type": "code",
      "execution_count": null,
      "id": "f4d9c9eb",
      "metadata": {
        "id": "f4d9c9eb"
      },
      "outputs": [],
      "source": [
        "import pandas as pd\n",
        "import numpy as np"
      ]
    },
    {
      "cell_type": "code",
      "execution_count": null,
      "id": "beb8389f",
      "metadata": {
        "id": "beb8389f",
        "outputId": "c9333f98-2b00-4382-a680-c4d209418c7f"
      },
      "outputs": [
        {
          "data": {
            "text/html": [
              "<div>\n",
              "<style scoped>\n",
              "    .dataframe tbody tr th:only-of-type {\n",
              "        vertical-align: middle;\n",
              "    }\n",
              "\n",
              "    .dataframe tbody tr th {\n",
              "        vertical-align: top;\n",
              "    }\n",
              "\n",
              "    .dataframe thead th {\n",
              "        text-align: right;\n",
              "    }\n",
              "</style>\n",
              "<table border=\"1\" class=\"dataframe\">\n",
              "  <thead>\n",
              "    <tr style=\"text-align: right;\">\n",
              "      <th></th>\n",
              "      <th>Date</th>\n",
              "      <th>Region</th>\n",
              "      <th>Store</th>\n",
              "      <th>Units Sold</th>\n",
              "      <th>Average Retail Price</th>\n",
              "      <th>Sales Rep</th>\n",
              "      <th>Endcap</th>\n",
              "      <th>Demo</th>\n",
              "      <th>Demo1-3</th>\n",
              "      <th>Demo4-5</th>\n",
              "      <th>Natural</th>\n",
              "      <th>Fitness</th>\n",
              "    </tr>\n",
              "  </thead>\n",
              "  <tbody>\n",
              "    <tr>\n",
              "      <th>0</th>\n",
              "      <td>2010-05-04</td>\n",
              "      <td>FL</td>\n",
              "      <td>Biscayne (aka Aventura)</td>\n",
              "      <td>150.702088</td>\n",
              "      <td>4.390000</td>\n",
              "      <td>0</td>\n",
              "      <td>0</td>\n",
              "      <td>0</td>\n",
              "      <td>0</td>\n",
              "      <td>0</td>\n",
              "      <td>1</td>\n",
              "      <td>0</td>\n",
              "    </tr>\n",
              "    <tr>\n",
              "      <th>1</th>\n",
              "      <td>2010-05-11</td>\n",
              "      <td>FL</td>\n",
              "      <td>Biscayne (aka Aventura)</td>\n",
              "      <td>197.403797</td>\n",
              "      <td>3.997692</td>\n",
              "      <td>0</td>\n",
              "      <td>0</td>\n",
              "      <td>0</td>\n",
              "      <td>0</td>\n",
              "      <td>0</td>\n",
              "      <td>1</td>\n",
              "      <td>0</td>\n",
              "    </tr>\n",
              "    <tr>\n",
              "      <th>2</th>\n",
              "      <td>2010-05-18</td>\n",
              "      <td>FL</td>\n",
              "      <td>Biscayne (aka Aventura)</td>\n",
              "      <td>235.106172</td>\n",
              "      <td>3.809231</td>\n",
              "      <td>0</td>\n",
              "      <td>0</td>\n",
              "      <td>0</td>\n",
              "      <td>0</td>\n",
              "      <td>0</td>\n",
              "      <td>1</td>\n",
              "      <td>0</td>\n",
              "    </tr>\n",
              "    <tr>\n",
              "      <th>3</th>\n",
              "      <td>2010-05-25</td>\n",
              "      <td>FL</td>\n",
              "      <td>Biscayne (aka Aventura)</td>\n",
              "      <td>226.692427</td>\n",
              "      <td>3.835000</td>\n",
              "      <td>0</td>\n",
              "      <td>0</td>\n",
              "      <td>0</td>\n",
              "      <td>0</td>\n",
              "      <td>0</td>\n",
              "      <td>1</td>\n",
              "      <td>0</td>\n",
              "    </tr>\n",
              "    <tr>\n",
              "      <th>4</th>\n",
              "      <td>2010-06-01</td>\n",
              "      <td>FL</td>\n",
              "      <td>Biscayne (aka Aventura)</td>\n",
              "      <td>257.688151</td>\n",
              "      <td>3.902500</td>\n",
              "      <td>0</td>\n",
              "      <td>0</td>\n",
              "      <td>0</td>\n",
              "      <td>0</td>\n",
              "      <td>0</td>\n",
              "      <td>1</td>\n",
              "      <td>0</td>\n",
              "    </tr>\n",
              "  </tbody>\n",
              "</table>\n",
              "</div>"
            ],
            "text/plain": [
              "        Date Region                    Store  Units Sold  \\\n",
              "0 2010-05-04     FL  Biscayne (aka Aventura)  150.702088   \n",
              "1 2010-05-11     FL  Biscayne (aka Aventura)  197.403797   \n",
              "2 2010-05-18     FL  Biscayne (aka Aventura)  235.106172   \n",
              "3 2010-05-25     FL  Biscayne (aka Aventura)  226.692427   \n",
              "4 2010-06-01     FL  Biscayne (aka Aventura)  257.688151   \n",
              "\n",
              "   Average Retail Price  Sales Rep  Endcap  Demo  Demo1-3  Demo4-5  Natural  \\\n",
              "0              4.390000          0       0     0        0        0        1   \n",
              "1              3.997692          0       0     0        0        0        1   \n",
              "2              3.809231          0       0     0        0        0        1   \n",
              "3              3.835000          0       0     0        0        0        1   \n",
              "4              3.902500          0       0     0        0        0        1   \n",
              "\n",
              "   Fitness  \n",
              "0        0  \n",
              "1        0  \n",
              "2        0  \n",
              "3        0  \n",
              "4        0  "
            ]
          },
          "execution_count": 3,
          "metadata": {},
          "output_type": "execute_result"
        }
      ],
      "source": [
        "path='C:\\\\Users\\\\LENOVO\\\\Desktop\\\\NPOWER Materials\\\\Vancouver resources\\\\Course 7\\\\Week 1\\GoodBelly-DataSet-Regression.xlsx'\n",
        "df=pd.read_excel(path)\n",
        "df.head()"
      ]
    },
    {
      "cell_type": "code",
      "execution_count": null,
      "id": "12123e22",
      "metadata": {
        "id": "12123e22"
      },
      "outputs": [],
      "source": [
        "#Q1 - Give summary of numeric type of columns in dataset?"
      ]
    },
    {
      "cell_type": "code",
      "execution_count": null,
      "id": "a618adde",
      "metadata": {
        "id": "a618adde",
        "outputId": "a995a1aa-7185-4ace-fc29-3613f1094cc6"
      },
      "outputs": [
        {
          "data": {
            "text/plain": [
              "Date                    datetime64[ns]\n",
              "Region                          object\n",
              "Store                           object\n",
              "Units Sold                     float64\n",
              "Average Retail Price           float64\n",
              "Sales Rep                        int64\n",
              "Endcap                           int64\n",
              "Demo                             int64\n",
              "Demo1-3                          int64\n",
              "Demo4-5                          int64\n",
              "Natural                          int64\n",
              "Fitness                          int64\n",
              "dtype: object"
            ]
          },
          "execution_count": 9,
          "metadata": {},
          "output_type": "execute_result"
        }
      ],
      "source": [
        "df.dtypes"
      ]
    },
    {
      "cell_type": "code",
      "execution_count": null,
      "id": "13283b1d",
      "metadata": {
        "id": "13283b1d"
      },
      "outputs": [],
      "source": [
        "#Q2 Calc STD of columns in dataset"
      ]
    },
    {
      "cell_type": "code",
      "execution_count": null,
      "id": "7e388c7a",
      "metadata": {
        "id": "7e388c7a",
        "outputId": "fcbdb6dc-d5e5-4a43-831e-19f10398c162"
      },
      "outputs": [
        {
          "name": "stderr",
          "output_type": "stream",
          "text": [
            "C:\\Users\\LENOVO\\AppData\\Local\\Temp/ipykernel_13628/3390915376.py:1: FutureWarning: Dropping of nuisance columns in DataFrame reductions (with 'numeric_only=None') is deprecated; in a future version this will raise TypeError.  Select only valid columns before calling the reduction.\n",
            "  df.std()\n"
          ]
        },
        {
          "data": {
            "text/plain": [
              "Date                    22 days 03:27:15.853934319\n",
              "Units Sold                              110.998731\n",
              "Average Retail Price                      0.463828\n",
              "Sales Rep                                 0.497695\n",
              "Endcap                                    0.191843\n",
              "Demo                                      0.234661\n",
              "Demo1-3                                   0.363522\n",
              "Demo4-5                                   0.264705\n",
              "Natural                                   0.975092\n",
              "Fitness                                   1.592789\n",
              "dtype: object"
            ]
          },
          "execution_count": 11,
          "metadata": {},
          "output_type": "execute_result"
        }
      ],
      "source": [
        "df.std()"
      ]
    },
    {
      "cell_type": "code",
      "execution_count": null,
      "id": "7c71300a",
      "metadata": {
        "id": "7c71300a"
      },
      "outputs": [],
      "source": [
        "#Q3 mean of first 50 records in dataset"
      ]
    },
    {
      "cell_type": "code",
      "execution_count": null,
      "id": "db6f3869",
      "metadata": {
        "id": "db6f3869",
        "outputId": "c092cc5d-537f-44d0-c9c3-aec80810d5e9"
      },
      "outputs": [
        {
          "name": "stderr",
          "output_type": "stream",
          "text": [
            "C:\\Users\\LENOVO\\AppData\\Local\\Temp/ipykernel_13628/1648960742.py:1: FutureWarning: DataFrame.mean and DataFrame.median with numeric_only=None will include datetime64 and datetime64tz columns in a future version.\n",
            "  df.head(50).mean()\n",
            "C:\\Users\\LENOVO\\AppData\\Local\\Temp/ipykernel_13628/1648960742.py:1: FutureWarning: Dropping of nuisance columns in DataFrame reductions (with 'numeric_only=None') is deprecated; in a future version this will raise TypeError.  Select only valid columns before calling the reduction.\n",
            "  df.head(50).mean()\n"
          ]
        },
        {
          "data": {
            "text/plain": [
              "Units Sold              186.280727\n",
              "Average Retail Price      4.128036\n",
              "Sales Rep                 0.000000\n",
              "Endcap                    0.100000\n",
              "Demo                      0.000000\n",
              "Demo1-3                   0.000000\n",
              "Demo4-5                   0.040000\n",
              "Natural                   1.300000\n",
              "Fitness                   1.560000\n",
              "dtype: float64"
            ]
          },
          "execution_count": 13,
          "metadata": {},
          "output_type": "execute_result"
        }
      ],
      "source": [
        "df.head(50).mean()"
      ]
    },
    {
      "cell_type": "code",
      "execution_count": null,
      "id": "6a5e7d11",
      "metadata": {
        "id": "6a5e7d11"
      },
      "outputs": [],
      "source": [
        "#Q4 What are thecolumn names"
      ]
    },
    {
      "cell_type": "code",
      "execution_count": null,
      "id": "3e1bdbc3",
      "metadata": {
        "id": "3e1bdbc3",
        "outputId": "babb7979-df95-4ec6-e239-c36bff83f745"
      },
      "outputs": [
        {
          "data": {
            "text/plain": [
              "Index(['Date', 'Region', 'Store', 'Units Sold', 'Average Retail Price',\n",
              "       'Sales Rep', 'Endcap', 'Demo', 'Demo1-3', 'Demo4-5', 'Natural',\n",
              "       'Fitness'],\n",
              "      dtype='object')"
            ]
          },
          "execution_count": 15,
          "metadata": {},
          "output_type": "execute_result"
        }
      ],
      "source": [
        "df.columns"
      ]
    },
    {
      "cell_type": "code",
      "execution_count": null,
      "id": "d34a7891",
      "metadata": {
        "id": "d34a7891"
      },
      "outputs": [],
      "source": [
        "#Q - Number of elements in dataset"
      ]
    },
    {
      "cell_type": "code",
      "execution_count": null,
      "id": "89611ff5",
      "metadata": {
        "id": "89611ff5",
        "outputId": "c013375c-c1d4-49ad-b76c-037c858e908a"
      },
      "outputs": [
        {
          "data": {
            "text/plain": [
              "16632"
            ]
          },
          "execution_count": 18,
          "metadata": {},
          "output_type": "execute_result"
        }
      ],
      "source": [
        "df.size"
      ]
    },
    {
      "cell_type": "code",
      "execution_count": null,
      "id": "0b111e99",
      "metadata": {
        "id": "0b111e99"
      },
      "outputs": [],
      "source": [
        "#Q- No. of records this dataset has"
      ]
    },
    {
      "cell_type": "code",
      "execution_count": null,
      "id": "0170544c",
      "metadata": {
        "id": "0170544c",
        "outputId": "635d5acb-e12f-4e32-dfc6-26f3e444465d"
      },
      "outputs": [
        {
          "data": {
            "text/plain": [
              "1386"
            ]
          },
          "execution_count": 22,
          "metadata": {},
          "output_type": "execute_result"
        }
      ],
      "source": [
        "len(df.index)"
      ]
    },
    {
      "cell_type": "code",
      "execution_count": null,
      "id": "428747b0",
      "metadata": {
        "id": "428747b0"
      },
      "outputs": [],
      "source": [
        "#Q type of column dataset has"
      ]
    },
    {
      "cell_type": "code",
      "execution_count": null,
      "id": "09d6d040",
      "metadata": {
        "id": "09d6d040",
        "outputId": "6e9e0af7-fd6c-4eb3-8f51-51fa442392c7"
      },
      "outputs": [
        {
          "data": {
            "text/plain": [
              "Date                    datetime64[ns]\n",
              "Region                          object\n",
              "Store                           object\n",
              "Units Sold                     float64\n",
              "Average Retail Price           float64\n",
              "Sales Rep                        int64\n",
              "Endcap                           int64\n",
              "Demo                             int64\n",
              "Demo1-3                          int64\n",
              "Demo4-5                          int64\n",
              "Natural                          int64\n",
              "Fitness                          int64\n",
              "dtype: object"
            ]
          },
          "execution_count": 24,
          "metadata": {},
          "output_type": "execute_result"
        }
      ],
      "source": [
        "df.dtypes"
      ]
    },
    {
      "cell_type": "code",
      "execution_count": null,
      "id": "21f7c0cd",
      "metadata": {
        "id": "21f7c0cd"
      },
      "outputs": [],
      "source": []
    }
  ],
  "metadata": {
    "kernelspec": {
      "display_name": "Python 3 (ipykernel)",
      "language": "python",
      "name": "python3"
    },
    "language_info": {
      "codemirror_mode": {
        "name": "ipython",
        "version": 3
      },
      "file_extension": ".py",
      "mimetype": "text/x-python",
      "name": "python",
      "nbconvert_exporter": "python",
      "pygments_lexer": "ipython3",
      "version": "3.9.7"
    },
    "colab": {
      "provenance": [],
      "include_colab_link": true
    }
  },
  "nbformat": 4,
  "nbformat_minor": 5
}