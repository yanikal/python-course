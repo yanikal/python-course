{
  "cells": [
    {
      "cell_type": "markdown",
      "metadata": {
        "id": "view-in-github",
        "colab_type": "text"
      },
      "source": [
        "<a href=\"https://colab.research.google.com/github/yanikal/python-course/blob/main/Conditions_and_Loops_solutions.ipynb\" target=\"_parent\"><img src=\"https://colab.research.google.com/assets/colab-badge.svg\" alt=\"Open In Colab\"/></a>"
      ]
    },
    {
      "cell_type": "code",
      "execution_count": null,
      "id": "b98c8d37",
      "metadata": {
        "id": "b98c8d37"
      },
      "outputs": [],
      "source": [
        "#Q1 Given two integer numbers. If any of the numbers are greater than 50 return t\n",
        "#number1=20\n",
        "#number2=40\n",
        "\n",
        "number1=20\n",
        "number2=40\n",
        "if(number1>50 and number2>50):\n",
        "    print(number1)"
      ]
    },
    {
      "cell_type": "code",
      "execution_count": null,
      "id": "8dc01c08",
      "metadata": {
        "id": "8dc01c08",
        "outputId": "cf109818-7c9b-42df-ab25-965b87981565"
      },
      "outputs": [
        {
          "name": "stdout",
          "output_type": "stream",
          "text": [
            "g\n",
            "True\n"
          ]
        }
      ],
      "source": [
        "#Q2 Given a list of numbers, return True if first and last number of a list is same\n",
        "#list=[1,2,5,4,1]\n",
        "\n",
        "#list1=[1,2,5,4,1]\n",
        "list1=input()\n",
        "i=list1[0]\n",
        "k=0\n",
        "for j in list1:\n",
        "    k=k+1\n",
        "\n",
        "k1=list1[k-1]\n",
        "if(i==k1):\n",
        "    print(\"True\")\n",
        "else:\n",
        "    print(\"False\")"
      ]
    },
    {
      "cell_type": "code",
      "execution_count": null,
      "id": "2147a300",
      "metadata": {
        "id": "2147a300",
        "outputId": "d2234174-ac85-4da9-c5d8-6afc90d45270"
      },
      "outputs": [
        {
          "name": "stdout",
          "output_type": "stream",
          "text": [
            "Current number 0 Previous Number 0 is 0\n",
            "Current number 1 Previous Number 0 is 1\n",
            "Current number 2 Previous Number 1 is 3\n",
            "Current number 3 Previous Number 2 is 5\n",
            "Current number 4 Previous Number 3 is 7\n",
            "Current number 5 Previous Number 4 is 9\n",
            "Current number 6 Previous Number 5 is 11\n",
            "Current number 7 Previous Number 6 is 13\n",
            "Current number 8 Previous Number 7 is 15\n",
            "Current number 9 Previous Number 8 is 17\n"
          ]
        }
      ],
      "source": [
        "#Q3 Given a range of the first 10 numbers[1:10], Iterate from the start number to last number\n",
        "#and In each iteration print the sum of the current number and previous number\n",
        "previous_num = 0\n",
        "for i in range(10):\n",
        "    sum = previous_num + i\n",
        "    print(f'Current number {i} Previous Number {previous_num} is {sum}')\n",
        "    previous_num = i"
      ]
    },
    {
      "cell_type": "code",
      "execution_count": null,
      "id": "abca75e3",
      "metadata": {
        "id": "abca75e3",
        "outputId": "e0c27589-7ce1-4c56-d23c-037c53f2e9d7"
      },
      "outputs": [
        {
          "name": "stdout",
          "output_type": "stream",
          "text": [
            "NoeCnd"
          ]
        }
      ],
      "source": [
        "#Q4 Given a string name, display only those characters which are present at an ev\n",
        "#name=\"NPowerCanada\"\n",
        "name=\"NPowerCanada\"\n",
        "k=0\n",
        "for j in name:\n",
        "        if(k<len(name)):\n",
        "            print(name[k],end=\"\")\n",
        "            k=k+2"
      ]
    },
    {
      "cell_type": "code",
      "execution_count": null,
      "id": "7329779c",
      "metadata": {
        "id": "7329779c",
        "outputId": "c4a64565-e60a-49dc-dc8f-2a25dd09d213"
      },
      "outputs": [
        {
          "name": "stdout",
          "output_type": "stream",
          "text": [
            "Python\n"
          ]
        }
      ],
      "source": [
        "#Q5 Given a string oldString and an integer number n,\n",
        "#remove characters from a string starting from zero up to n and return a newStrin\n",
        "# oldString=\"PythonCourse\"\n",
        "#n=6\n",
        "oldString=\"PythonCourse\"\n",
        "n=6\n",
        "k=0\n",
        "newStrin=\"\"\n",
        "for j in oldString:\n",
        "        if(k<n):\n",
        "            newStrin = newStrin + j\n",
        "            k=k+1\n",
        "print(newStrin)"
      ]
    },
    {
      "cell_type": "code",
      "execution_count": null,
      "id": "ae2d102b",
      "metadata": {
        "id": "ae2d102b",
        "outputId": "3f357c65-bd7d-42e3-bc08-d5a892ac7b7f"
      },
      "outputs": [
        {
          "name": "stdout",
          "output_type": "stream",
          "text": [
            "* \n",
            "\n",
            "* * \n",
            "\n",
            "* * * \n",
            "\n",
            "* * * * \n",
            "\n"
          ]
        }
      ],
      "source": [
        "#Q6 Print the follwoing pattern\n",
        "#*\n",
        "#**\n",
        "#***\n",
        "#****\n",
        "for i in range(1,5):\n",
        "    for j in range(1,i+1):\n",
        "        print(\"*\",end=\" \")\n",
        "    print(\"\\n\")"
      ]
    },
    {
      "cell_type": "code",
      "execution_count": null,
      "id": "67e31603",
      "metadata": {
        "id": "67e31603",
        "outputId": "1217db8a-e153-4627-c292-fd9aa7e169e6"
      },
      "outputs": [
        {
          "name": "stdout",
          "output_type": "stream",
          "text": [
            "60\n",
            "50\n",
            "70\n",
            "90\n"
          ]
        }
      ],
      "source": [
        "#Q7 Reverse the following list using for loop\n",
        "#list1=[90,70,50,60]\n",
        "\n",
        "list1=[90,70,50,60]\n",
        "\n",
        "for i in range(len(list1)-1,-1,-1):\n",
        "\n",
        "    print(list1[i])\n"
      ]
    },
    {
      "cell_type": "code",
      "execution_count": null,
      "id": "fb58abb6",
      "metadata": {
        "id": "fb58abb6",
        "outputId": "c8ebc64c-8d35-4a1d-cde9-afc7f1a9f6e5"
      },
      "outputs": [
        {
          "name": "stdout",
          "output_type": "stream",
          "text": [
            "-10\n",
            "-9\n",
            "-8\n",
            "-7\n",
            "-6\n",
            "-5\n",
            "-4\n",
            "-3\n",
            "-2\n"
          ]
        }
      ],
      "source": [
        "#Q8 Display numbers from -10 to -1 using for loop [hint use range method]\n",
        "for i in range(-10,-1):\n",
        "    print(i)"
      ]
    }
  ],
  "metadata": {
    "kernelspec": {
      "display_name": "Python 3",
      "language": "python",
      "name": "python3"
    },
    "language_info": {
      "codemirror_mode": {
        "name": "ipython",
        "version": 3
      },
      "file_extension": ".py",
      "mimetype": "text/x-python",
      "name": "python",
      "nbconvert_exporter": "python",
      "pygments_lexer": "ipython3",
      "version": "3.8.8"
    },
    "colab": {
      "provenance": [],
      "include_colab_link": true
    }
  },
  "nbformat": 4,
  "nbformat_minor": 5
}