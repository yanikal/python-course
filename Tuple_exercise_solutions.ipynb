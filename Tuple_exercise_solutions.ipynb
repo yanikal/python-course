{
  "cells": [
    {
      "cell_type": "markdown",
      "metadata": {
        "id": "view-in-github",
        "colab_type": "text"
      },
      "source": [
        "<a href=\"https://colab.research.google.com/github/yanikal/python-course/blob/main/Tuple_exercise_solutions.ipynb\" target=\"_parent\"><img src=\"https://colab.research.google.com/assets/colab-badge.svg\" alt=\"Open In Colab\"/></a>"
      ]
    },
    {
      "cell_type": "code",
      "execution_count": null,
      "id": "82c16f08",
      "metadata": {
        "id": "82c16f08",
        "outputId": "02c00e45-a4e3-4fd3-d123-39320be5267e"
      },
      "outputs": [
        {
          "data": {
            "text/plain": [
              "('NPower', 'JDA', 'Tuesday', 30, 3, 2021)"
            ]
          },
          "execution_count": 1,
          "metadata": {},
          "output_type": "execute_result"
        }
      ],
      "source": [
        "#Q1 Create myTuple tuple with the follwoing values (\"NPower\",\"JDA\",\"Tuesday\",30,31,2021)\n",
        "\n",
        "myTuple = (\"NPower\",\"JDA\",\"Tuesday\",30,3,2021)\n",
        "myTuple"
      ]
    },
    {
      "cell_type": "code",
      "execution_count": null,
      "id": "b24eb2c4",
      "metadata": {
        "id": "b24eb2c4",
        "outputId": "565ab377-9f8c-40eb-fe0d-a65fbc54f233"
      },
      "outputs": [
        {
          "name": "stdout",
          "output_type": "stream",
          "text": [
            "<class 'tuple'>\n"
          ]
        }
      ],
      "source": [
        "#Q2 What is the type of myTuple\n",
        "print(type(myTuple))"
      ]
    },
    {
      "cell_type": "code",
      "execution_count": null,
      "id": "2e868b2c",
      "metadata": {
        "id": "2e868b2c",
        "outputId": "c2adcf41-f697-41fd-8be7-c76869feee9c"
      },
      "outputs": [
        {
          "name": "stdout",
          "output_type": "stream",
          "text": [
            "6\n"
          ]
        }
      ],
      "source": [
        "#Q3 What is the length of myTuple\n",
        "print(len(myTuple))"
      ]
    },
    {
      "cell_type": "code",
      "execution_count": null,
      "id": "5b39b95c",
      "metadata": {
        "id": "5b39b95c",
        "outputId": "100101b7-d5bc-43d6-894d-89d06d44780e"
      },
      "outputs": [
        {
          "name": "stdout",
          "output_type": "stream",
          "text": [
            "('NPower', 'JDA', 'Tuesday', 30, 3, 2021)\n"
          ]
        }
      ],
      "source": [
        "#Q4 print the values in each index #Use regular indexing\n",
        "print(myTuple[:6])"
      ]
    },
    {
      "cell_type": "code",
      "execution_count": null,
      "id": "f8b21688",
      "metadata": {
        "id": "f8b21688",
        "outputId": "c8c312cb-cb94-41dc-dc76-7467df38bb16"
      },
      "outputs": [
        {
          "name": "stdout",
          "output_type": "stream",
          "text": [
            "('NPower', 'JDA', 'Tuesday', 30, 3)\n"
          ]
        }
      ],
      "source": [
        "#Q5 print the values in each index #Use negative indexing \n",
        "print(myTuple[-7:-1])"
      ]
    },
    {
      "cell_type": "code",
      "execution_count": null,
      "id": "fd22def5",
      "metadata": {
        "id": "fd22def5",
        "outputId": "813b159f-50c8-4719-f1c3-e093c757c744"
      },
      "outputs": [
        {
          "data": {
            "text/plain": [
              "[str, str, str, int, int, int]"
            ]
          },
          "execution_count": 6,
          "metadata": {},
          "output_type": "execute_result"
        }
      ],
      "source": [
        "#Q6 what is the type of each value\n",
        "res = list(map(type, myTuple))\n",
        "res"
      ]
    },
    {
      "cell_type": "code",
      "execution_count": null,
      "id": "0fa3dbbe",
      "metadata": {
        "id": "0fa3dbbe",
        "outputId": "96a31ce3-7eff-420f-a778-398e994414f5"
      },
      "outputs": [
        {
          "name": "stdout",
          "output_type": "stream",
          "text": [
            "NPower\n",
            "JDA\n",
            "Tuesday\n",
            "30\n",
            "3\n",
            "2021\n"
          ]
        }
      ],
      "source": [
        "#Q7 unpack myTuple in the follwoeing variables name,program,dayName,month,day,year\n",
        "# print the variables \n",
        "(name,program,dayName,month,day,year)=myTuple\n",
        "print(name)\n",
        "print(program)\n",
        "print(dayName)\n",
        "print(month)\n",
        "print(day)\n",
        "print(year)"
      ]
    },
    {
      "cell_type": "code",
      "execution_count": null,
      "id": "71eb19b1",
      "metadata": {
        "id": "71eb19b1"
      },
      "outputs": [],
      "source": [
        "#Q8 unpack myTuple2 in the follwoeing variables name,program,dayName.\n",
        "# What will happen to variables (name,program,dayName) and (month,day,year)"
      ]
    },
    {
      "cell_type": "code",
      "execution_count": null,
      "id": "3174610e",
      "metadata": {
        "id": "3174610e",
        "outputId": "01d813ae-6a65-4d16-f545-d68abf14f618"
      },
      "outputs": [
        {
          "name": "stdout",
          "output_type": "stream",
          "text": [
            "Type a <class 'str'>\n",
            "Jerry 2 89\n",
            "<class 'tuple'>\n",
            "('Ulan',)\n",
            "Leul\n"
          ]
        }
      ],
      "source": [
        "# Note the following\n",
        "Tuple1=(\"Jerry\",2,89) #This is a tuple with 3 elements\n",
        "Tuple2=(\"Ulan\",)#This is a tuple with 1 element\n",
        "test=\"Leul\" #This is a VARIABLE with string value\n",
        "a,b,c=Tuple1\n",
        "print(\"Type a\",type(a))\n",
        "print(a,b,c)\n",
        "d=Tuple2\n",
        "print(type(d))\n",
        "print(d)\n",
        "e=test\n",
        "print(e)"
      ]
    },
    {
      "cell_type": "code",
      "execution_count": null,
      "id": "ffd6623a",
      "metadata": {
        "id": "ffd6623a",
        "outputId": "2f8ecda8-56ad-48b7-f767-104eb2b0b20f"
      },
      "outputs": [
        {
          "name": "stdout",
          "output_type": "stream",
          "text": [
            "(1, 2, 3)\n",
            "(4, 5, 6)\n"
          ]
        },
        {
          "ename": "TypeError",
          "evalue": "'tuple' object does not support item assignment",
          "output_type": "error",
          "traceback": [
            "\u001b[1;31m---------------------------------------------------------------------------\u001b[0m",
            "\u001b[1;31mTypeError\u001b[0m                                 Traceback (most recent call last)",
            "\u001b[1;32m<ipython-input-10-855a10251bdc>\u001b[0m in \u001b[0;36m<module>\u001b[1;34m\u001b[0m\n\u001b[0;32m      7\u001b[0m \u001b[0mprint\u001b[0m\u001b[1;33m(\u001b[0m\u001b[0mtestTuple\u001b[0m\u001b[1;33m)\u001b[0m\u001b[1;33m\u001b[0m\u001b[1;33m\u001b[0m\u001b[0m\n\u001b[0;32m      8\u001b[0m \u001b[1;31m#But we can't change or edit a value for the existing tuple\u001b[0m\u001b[1;33m\u001b[0m\u001b[1;33m\u001b[0m\u001b[1;33m\u001b[0m\u001b[0m\n\u001b[1;32m----> 9\u001b[1;33m \u001b[0mtestTuple\u001b[0m\u001b[1;33m[\u001b[0m\u001b[1;36m0\u001b[0m\u001b[1;33m]\u001b[0m\u001b[1;33m=\u001b[0m\u001b[1;36m6\u001b[0m \u001b[1;31m#ERROR 'tuple' object does not support item assignment\u001b[0m\u001b[1;33m\u001b[0m\u001b[1;33m\u001b[0m\u001b[0m\n\u001b[0m",
            "\u001b[1;31mTypeError\u001b[0m: 'tuple' object does not support item assignment"
          ]
        }
      ],
      "source": [
        "#Tuples are immutable\n",
        "#we can always make the testTuple variable reference a new tuple in the memory\n",
        "#and hold a different information\n",
        "testTuple=(1,2,3)\n",
        "print(testTuple)\n",
        "testTuple=(4,5,6)\n",
        "print(testTuple)\n",
        "#But we can't change or edit a value for the existing tuple\n",
        "testTuple[0]=6 #ERROR 'tuple' object does not support item assignment"
      ]
    },
    {
      "cell_type": "code",
      "execution_count": null,
      "id": "a82b3b42",
      "metadata": {
        "id": "a82b3b42"
      },
      "outputs": [],
      "source": [
        "#Q9 Reverse myTuple, output should looks like (2021,3,30,\"Tuesday\",\"JDA\",\"NPower\")\n",
        "myTuple[::-1]"
      ]
    },
    {
      "cell_type": "code",
      "execution_count": null,
      "id": "957a350f",
      "metadata": {
        "id": "957a350f",
        "outputId": "32d5e672-fbef-41fa-bff6-ef4598449b6d"
      },
      "outputs": [
        {
          "data": {
            "text/plain": [
              "(('Coursera', 'course', 6), 'week', (2, 'Lists', 'Tuple'))"
            ]
          },
          "execution_count": 39,
          "metadata": {},
          "output_type": "execute_result"
        }
      ],
      "source": [
        "#Q10 Create nestedTuple=((\"Coursera\",\"course\",6),(\"week\",(2,\"Lists\",\"Tuple\")))\n",
        "A=(\"Coursera\",\"course\",6)\n",
        "B=(\"week\")\n",
        "C=(2,\"Lists\",\"Tuple\")\n",
        "\n",
        "nestedTuple = (A, B, C)\n",
        "nestedTuple"
      ]
    },
    {
      "cell_type": "code",
      "execution_count": null,
      "id": "5b6c4033",
      "metadata": {
        "id": "5b6c4033",
        "outputId": "ab749243-38e0-42d5-8f26-f3d8530d684f"
      },
      "outputs": [
        {
          "data": {
            "text/plain": [
              "('week',)"
            ]
          },
          "execution_count": 40,
          "metadata": {},
          "output_type": "execute_result"
        }
      ],
      "source": [
        "#Q11 What is the output of nestedTuple[1:2]\n",
        "nestedTuple[1:2]"
      ]
    },
    {
      "cell_type": "code",
      "execution_count": null,
      "id": "a1aabf6d",
      "metadata": {
        "id": "a1aabf6d",
        "outputId": "66a25c12-a09a-4eab-faea-9f9e5c39cac0"
      },
      "outputs": [
        {
          "data": {
            "text/plain": [
              "(('Coursera', 'course', 6), 'week', (2, 'Lists', 'Tuple'))"
            ]
          },
          "execution_count": 41,
          "metadata": {},
          "output_type": "execute_result"
        }
      ],
      "source": [
        "#Q12 print each element in the nestedTuple\n",
        "nestedTuple"
      ]
    },
    {
      "cell_type": "code",
      "execution_count": null,
      "id": "bdd00207",
      "metadata": {
        "id": "bdd00207",
        "outputId": "cadf1dc4-cc77-4e76-ec71-e6ed6af176ed"
      },
      "outputs": [
        {
          "data": {
            "text/plain": [
              "(2, 'Lists', 'Tuple')"
            ]
          },
          "execution_count": 42,
          "metadata": {},
          "output_type": "execute_result"
        }
      ],
      "source": [
        "#Q13 Access (2,\"Lists\",\"Tuple\") from nestedTuple\n",
        "nestedTuple[2]"
      ]
    },
    {
      "cell_type": "code",
      "execution_count": null,
      "id": "4691d781",
      "metadata": {
        "id": "4691d781",
        "outputId": "cbe42ec2-16c8-44e0-e421-611b925ff03a"
      },
      "outputs": [
        {
          "data": {
            "text/plain": [
              "'Lists'"
            ]
          },
          "execution_count": 43,
          "metadata": {},
          "output_type": "execute_result"
        }
      ],
      "source": [
        "#Q14 Access the value \"Lists\" from nestedTuple\n",
        "nestedTuple[2][1]"
      ]
    },
    {
      "cell_type": "code",
      "execution_count": null,
      "id": "82a4cf53",
      "metadata": {
        "id": "82a4cf53",
        "outputId": "f6e05bf5-dce9-4028-b555-f68235bf11d9"
      },
      "outputs": [
        {
          "data": {
            "text/plain": [
              "'Tuple'"
            ]
          },
          "execution_count": 44,
          "metadata": {},
          "output_type": "execute_result"
        }
      ],
      "source": [
        "#Q15 Access the value \"Tuple\" from nestedTuple\n",
        "nestedTuple[2][2]"
      ]
    },
    {
      "cell_type": "code",
      "execution_count": null,
      "id": "c9dc29a8",
      "metadata": {
        "id": "c9dc29a8",
        "outputId": "0d6af789-85b5-4850-fea1-c833fb0b949b"
      },
      "outputs": [
        {
          "data": {
            "text/plain": [
              "'course'"
            ]
          },
          "execution_count": 45,
          "metadata": {},
          "output_type": "execute_result"
        }
      ],
      "source": [
        "#Q16 Access the value \"course\" from nestedTuple\n",
        "nestedTuple[0][1]"
      ]
    },
    {
      "cell_type": "code",
      "execution_count": null,
      "id": "aa243bb0",
      "metadata": {
        "id": "aa243bb0",
        "outputId": "fde85b0b-5bfb-492d-95f6-1b68059e6dbc"
      },
      "outputs": [
        {
          "data": {
            "text/plain": [
              "('NPower',\n",
              " 'JDA',\n",
              " 'Tuesday',\n",
              " 30,\n",
              " 3,\n",
              " 2021,\n",
              " ('Coursera', 'course', 6),\n",
              " 'week',\n",
              " (2, 'Lists', 'Tuple'))"
            ]
          },
          "execution_count": 53,
          "metadata": {},
          "output_type": "execute_result"
        }
      ],
      "source": [
        "#Q17 Concatenate myTuple with nestedTuple\n",
        "myTuple=myTuple+nestedTuple\n",
        "myTuple"
      ]
    },
    {
      "cell_type": "code",
      "execution_count": null,
      "id": "ebe46afe",
      "metadata": {
        "id": "ebe46afe",
        "outputId": "d6cd2fab-c8bf-4e4c-e35f-744db8fbe611"
      },
      "outputs": [
        {
          "data": {
            "text/plain": [
              "(('NPower',\n",
              "  'JDA',\n",
              "  'Tuesday',\n",
              "  30,\n",
              "  3,\n",
              "  2021,\n",
              "  ('Coursera', 'course', 6),\n",
              "  'week',\n",
              "  (2, 'Lists', 'Tuple')),\n",
              " 'Kowcika')"
            ]
          },
          "execution_count": 55,
          "metadata": {},
          "output_type": "execute_result"
        }
      ],
      "source": [
        "#Q18 add your name to the tuple\n",
        "name=(('Kowcika'))\n",
        "newTuple=(myTuple,name)\n",
        "newTuple"
      ]
    },
    {
      "cell_type": "code",
      "execution_count": null,
      "id": "fd86bd29",
      "metadata": {
        "id": "fd86bd29"
      },
      "outputs": [],
      "source": [
        "#Q19 check whether Coursera exists within myTuple\n",
        "# NOTE \"in\" doesn't work properly with nested tuples"
      ]
    },
    {
      "cell_type": "code",
      "execution_count": null,
      "id": "52395fc9",
      "metadata": {
        "id": "52395fc9",
        "outputId": "07b5d4ac-0af5-465c-97ad-c4bc7ed258b9"
      },
      "outputs": [
        {
          "name": "stdout",
          "output_type": "stream",
          "text": [
            "Number exists\n"
          ]
        }
      ],
      "source": [
        "#Q20 check whether 55 exists within testTuple\n",
        "testTuple=(1,2,33,55,6,55)\n",
        "number=55\n",
        "for number in testTuple:\n",
        "     print(\"Number exists\")\n",
        "     break;"
      ]
    },
    {
      "cell_type": "code",
      "execution_count": null,
      "id": "4e9824c8",
      "metadata": {
        "id": "4e9824c8",
        "outputId": "5178f730-392f-4927-851d-fe30ffcd76e7"
      },
      "outputs": [
        {
          "ename": "ValueError",
          "evalue": "tuple.index(x): x not in tuple",
          "output_type": "error",
          "traceback": [
            "\u001b[1;31m---------------------------------------------------------------------------\u001b[0m",
            "\u001b[1;31mValueError\u001b[0m                                Traceback (most recent call last)",
            "\u001b[1;32m<ipython-input-63-a1cd5b10f574>\u001b[0m in \u001b[0;36m<module>\u001b[1;34m\u001b[0m\n\u001b[0;32m      2\u001b[0m \u001b[1;31m# Find the index of 'Coursera' in newTuple\u001b[0m\u001b[1;33m\u001b[0m\u001b[1;33m\u001b[0m\u001b[1;33m\u001b[0m\u001b[0m\n\u001b[0;32m      3\u001b[0m \u001b[1;31m# NOTE index doesn't work properly with nested tuples # Wrong output\u001b[0m\u001b[1;33m\u001b[0m\u001b[1;33m\u001b[0m\u001b[1;33m\u001b[0m\u001b[0m\n\u001b[1;32m----> 4\u001b[1;33m \u001b[0mnewTuple\u001b[0m\u001b[1;33m.\u001b[0m\u001b[0mindex\u001b[0m\u001b[1;33m(\u001b[0m\u001b[1;34m'JDA'\u001b[0m\u001b[1;33m)\u001b[0m\u001b[1;33m\u001b[0m\u001b[1;33m\u001b[0m\u001b[0m\n\u001b[0m\u001b[0;32m      5\u001b[0m \u001b[0mnewTuple\u001b[0m\u001b[1;33m.\u001b[0m\u001b[0mindex\u001b[0m\u001b[1;33m(\u001b[0m\u001b[1;34m'Coursera'\u001b[0m\u001b[1;33m)\u001b[0m\u001b[1;33m\u001b[0m\u001b[1;33m\u001b[0m\u001b[0m\n",
            "\u001b[1;31mValueError\u001b[0m: tuple.index(x): x not in tuple"
          ]
        }
      ],
      "source": [
        "#Q21 Find the index of JDA in newTuple\n",
        "# Find the index of 'Coursera' in newTuple\n",
        "# NOTE index doesn't work properly with nested tuples # Wrong output\n",
        "newTuple.index('JDA')\n",
        "newTuple.index('Coursera')"
      ]
    },
    {
      "cell_type": "code",
      "execution_count": null,
      "id": "21ca4d0b",
      "metadata": {
        "id": "21ca4d0b",
        "outputId": "1fb52bc0-5519-42c5-9692-1d09d6932166"
      },
      "outputs": [
        {
          "ename": "IndexError",
          "evalue": "tuple index out of range",
          "output_type": "error",
          "traceback": [
            "\u001b[1;31m---------------------------------------------------------------------------\u001b[0m",
            "\u001b[1;31mIndexError\u001b[0m                                Traceback (most recent call last)",
            "\u001b[1;32m<ipython-input-65-97576e783ad1>\u001b[0m in \u001b[0;36m<module>\u001b[1;34m\u001b[0m\n\u001b[0;32m      1\u001b[0m \u001b[1;31m#Q22 print index 8 from newTuple\u001b[0m\u001b[1;33m\u001b[0m\u001b[1;33m\u001b[0m\u001b[1;33m\u001b[0m\u001b[0m\n\u001b[1;32m----> 2\u001b[1;33m \u001b[0mnewTuple\u001b[0m\u001b[1;33m[\u001b[0m\u001b[1;36m8\u001b[0m\u001b[1;33m]\u001b[0m\u001b[1;33m\u001b[0m\u001b[1;33m\u001b[0m\u001b[0m\n\u001b[0m",
            "\u001b[1;31mIndexError\u001b[0m: tuple index out of range"
          ]
        }
      ],
      "source": [
        "#Q22 print index 8 from newTuple\n",
        "newTuple[8]"
      ]
    },
    {
      "cell_type": "code",
      "execution_count": null,
      "id": "3614edd7",
      "metadata": {
        "id": "3614edd7",
        "outputId": "e6c7cb70-241e-4993-89c1-077dfd807dbe"
      },
      "outputs": [
        {
          "name": "stdout",
          "output_type": "stream",
          "text": [
            "30\n",
            "2\n"
          ]
        }
      ],
      "source": [
        "#Q23 Get the 4th element from the begining of myTuple and 4th element from last \n",
        "print(newTuple[0][3])\n",
        "print(newTuple[0][8][0])"
      ]
    },
    {
      "cell_type": "code",
      "execution_count": null,
      "id": "cae30f03",
      "metadata": {
        "id": "cae30f03",
        "outputId": "fea253e3-70c6-4054-c4bf-9f602c748d82"
      },
      "outputs": [
        {
          "data": {
            "text/plain": [
              "2"
            ]
          },
          "execution_count": 82,
          "metadata": {},
          "output_type": "execute_result"
        }
      ],
      "source": [
        "#Q24 Find how many times 55 appeared in testTuple [Hint: Use method count()]\n",
        "testTuple.count(55)"
      ]
    },
    {
      "cell_type": "code",
      "execution_count": null,
      "id": "d3968e28",
      "metadata": {
        "id": "d3968e28"
      },
      "outputs": [],
      "source": []
    }
  ],
  "metadata": {
    "kernelspec": {
      "display_name": "Python 3",
      "language": "python",
      "name": "python3"
    },
    "language_info": {
      "codemirror_mode": {
        "name": "ipython",
        "version": 3
      },
      "file_extension": ".py",
      "mimetype": "text/x-python",
      "name": "python",
      "nbconvert_exporter": "python",
      "pygments_lexer": "ipython3",
      "version": "3.8.8"
    },
    "colab": {
      "provenance": [],
      "include_colab_link": true
    }
  },
  "nbformat": 4,
  "nbformat_minor": 5
}