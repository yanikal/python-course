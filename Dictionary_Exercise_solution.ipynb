{
  "cells": [
    {
      "cell_type": "markdown",
      "metadata": {
        "id": "view-in-github",
        "colab_type": "text"
      },
      "source": [
        "<a href=\"https://colab.research.google.com/github/yanikal/python-course/blob/main/Dictionary_Exercise_solution.ipynb\" target=\"_parent\"><img src=\"https://colab.research.google.com/assets/colab-badge.svg\" alt=\"Open In Colab\"/></a>"
      ]
    },
    {
      "cell_type": "code",
      "execution_count": null,
      "id": "e80c6c7a",
      "metadata": {
        "id": "e80c6c7a",
        "outputId": "9d4c50d4-8f4b-402d-9d56-ec1c9c7efbf7"
      },
      "outputs": [
        {
          "data": {
            "text/plain": [
              "{'AWK': 'Abdul Wahid Khudayar',\n",
              " 'AR': 'Addy Rose',\n",
              " 'AO': 'Anuoluwapo Oluseyi',\n",
              " 'AKH': 'Aravindh Kuppusamy Haridoss',\n",
              " 'CH': 'Carlo Halnin',\n",
              " 'JC': 'Juned Chhiboo',\n",
              " 'CAJ': 'Cici Ann Joji',\n",
              " 'DP': 'DHRUVKUMAR PATEL',\n",
              " 'EK': 'Erkan Kumesogut',\n",
              " 'ER': 'Exaltacao Rodrigues',\n",
              " 'FT': 'fatma tuncalan',\n",
              " 'HK': 'harpreet kaur',\n",
              " 'HOG': 'Harun Omar-Godane',\n",
              " 'HG': 'Hossain Ghahraloud',\n",
              " 'JT': 'Jesso Thomas',\n",
              " 'KM': 'Kamiar Mehmannavazan',\n",
              " 'KS': 'Karthik Sai',\n",
              " 'KGB': 'Kwabena Gyasi-Boateng',\n",
              " 'LR': 'L Reetika',\n",
              " 'MA': 'Meelad Armani',\n",
              " 'MM': 'Marwa Musa',\n",
              " 'MD': 'Mohammad Dabbour',\n",
              " 'PR': 'Pouria Raziei',\n",
              " 'RT': 'Rohan Thomas',\n",
              " 'RFT': 'Robin Francis Thomas',\n",
              " 'RS': 'Ronit Soni',\n",
              " 'SB': 'Sameeha Bala',\n",
              " 'SK': 'Supriya Kanda',\n",
              " 'WC': 'Weslie Chung',\n",
              " 'YFL': 'Ying Fei Li',\n",
              " 'PM': 'Poojan Modi',\n",
              " 'AH': 'Alexander Hailu',\n",
              " 'ES': 'Ekaterina Shalygina',\n",
              " 'NT': 'Nevin Tomy',\n",
              " 'JH': 'Jason Huang',\n",
              " 'A': 'Anindita',\n",
              " 'VP': 'Vrunda Patel',\n",
              " 'SP': 'Sravan Pingali'}"
            ]
          },
          "execution_count": 1,
          "metadata": {},
          "output_type": "execute_result"
        }
      ],
      "source": [
        "#Create a dictionary for all participants in the JDA program.\n",
        "#Keys should be the first letter in their names, Values should be their names.\n",
        "#[Hint] dic={\"l\":(Leul),\"J\":(Jerry,Jainam)........}\n",
        "dic = {\n",
        "\"AWK\":\"Abdul Wahid Khudayar\",\n",
        "\"AR\":\"Addy Rose\",\n",
        "\"AO\":\"Anuoluwapo Oluseyi\",\n",
        "\"AKH\":\"Aravindh Kuppusamy Haridoss\",\n",
        "\"CH\":\"Carlo Halnin\",\n",
        "\"JC\":\"Juned Chhiboo\",\n",
        "\"CAJ\":\"Cici Ann Joji\",\n",
        "\"DP\":\"DHRUVKUMAR PATEL\",\n",
        "\"EK\":\"Erkan Kumesogut\",\n",
        "\"ER\":\"Exaltacao Rodrigues\",\n",
        "\"FT\":\"fatma tuncalan\",\n",
        "\"HK\":\"harpreet kaur\",\n",
        "\"HOG\":\"Harun Omar-Godane\",\n",
        "\"HG\":\"Hossain Ghahraloud\",\n",
        "\"JT\":\"Jesso Thomas\",\n",
        "\"KM\":\"Kamiar Mehmannavazan\",\n",
        "\"KS\":\"Karthik Sai\",\n",
        "\"KGB\":\"Kwabena Gyasi-Boateng\",\n",
        "\"LR\":\"L Reetika\",\n",
        "\"MA\":\"mariya amtullah\",\n",
        "\"MM\":\"Marwa Musa\",\n",
        "\"MA\":\"Meelad Armani\",\n",
        "\"MD\":\"Miguel Diaz\",\n",
        "\"MD\":\"Mohammad Dabbour\",\n",
        "\"PR\":\"Pouria Raziei\",\n",
        "\"RT\":\"Reena Thakur\",\n",
        "\"RFT\":\"Robin Francis Thomas\",\n",
        "\"RT\":\"Rohan Thomas\",\n",
        "\"RS\":\"Ronit Soni\",\n",
        "\"SB\":\"Sameeha Bala\",\n",
        "\"SK\":\"Supriya Kanda\",\n",
        "\"WC\":\"Weslie Chung\",\n",
        "\"YFL\":\"Ying Fei Li\",\n",
        "\"PM\":\"Poojan Modi\",\n",
        "\"AH\":\"Alexander Hailu\",\n",
        "\"ES\":\"Ekaterina Shalygina\",\n",
        "\"NT\":\"Nevin Tomy\",\n",
        "\"JH\":\"Jason Huang\",\n",
        "\"A\":\"Anindita\",\n",
        "\"VP\":\"Vrunda Patel\",\n",
        "\"SP\":\"Sravan Pingali\"\n",
        "}\n",
        "dic"
      ]
    },
    {
      "cell_type": "code",
      "execution_count": null,
      "id": "577395f1",
      "metadata": {
        "id": "577395f1",
        "outputId": "0dc6bada-750d-49f9-fdb6-34fe262e503e"
      },
      "outputs": [
        {
          "data": {
            "text/plain": [
              "dict_keys(['AWK', 'AR', 'AO', 'AKH', 'CH', 'JC', 'CAJ', 'DP', 'EK', 'ER', 'FT', 'HK', 'HOG', 'HG', 'JT', 'KM', 'KS', 'KGB', 'LR', 'MA', 'MM', 'MD', 'PR', 'RT', 'RFT', 'RS', 'SB', 'SK', 'WC', 'YFL', 'PM', 'AH', 'ES', 'NT', 'JH', 'A', 'VP', 'SP'])"
            ]
          },
          "execution_count": 2,
          "metadata": {},
          "output_type": "execute_result"
        }
      ],
      "source": [
        "#Q2 What are the keys of your dictionary\n",
        "dic.keys()"
      ]
    },
    {
      "cell_type": "code",
      "execution_count": null,
      "id": "dbac1d2a",
      "metadata": {
        "id": "dbac1d2a",
        "outputId": "efc66846-de6a-465d-f422-8f00d8dd120b"
      },
      "outputs": [
        {
          "data": {
            "text/plain": [
              "dict_values(['Abdul Wahid Khudayar', 'Addy Rose', 'Anuoluwapo Oluseyi', 'Aravindh Kuppusamy Haridoss', 'Carlo Halnin', 'Juned Chhiboo', 'Cici Ann Joji', 'DHRUVKUMAR PATEL', 'Erkan Kumesogut', 'Exaltacao Rodrigues', 'fatma tuncalan', 'harpreet kaur', 'Harun Omar-Godane', 'Hossain Ghahraloud', 'Jesso Thomas', 'Kamiar Mehmannavazan', 'Karthik Sai', 'Kwabena Gyasi-Boateng', 'L Reetika', 'Meelad Armani', 'Marwa Musa', 'Mohammad Dabbour', 'Pouria Raziei', 'Rohan Thomas', 'Robin Francis Thomas', 'Ronit Soni', 'Sameeha Bala', 'Supriya Kanda', 'Weslie Chung', 'Ying Fei Li', 'Poojan Modi', 'Alexander Hailu', 'Ekaterina Shalygina', 'Nevin Tomy', 'Jason Huang', 'Anindita', 'Vrunda Patel', 'Sravan Pingali'])"
            ]
          },
          "execution_count": 3,
          "metadata": {},
          "output_type": "execute_result"
        }
      ],
      "source": [
        "#Q3 What are the values of your dictionary\n",
        "dic.values()"
      ]
    },
    {
      "cell_type": "code",
      "execution_count": null,
      "id": "bf7a7957",
      "metadata": {
        "id": "bf7a7957",
        "outputId": "b64eeac0-27a7-47f1-f767-754f99babc9b"
      },
      "outputs": [
        {
          "data": {
            "text/plain": [
              "{'CH': 'Carlo Halnin',\n",
              " 'CAJ': 'Cici Ann Joji',\n",
              " 'AWK': 'Abdul Wahid Khudayar',\n",
              " 'AR': 'Addy Rose',\n",
              " 'AO': 'Anuoluwapo Oluseyi',\n",
              " 'AKH': 'Aravindh Kuppusamy Haridoss',\n",
              " 'AH': 'Alexander Hailu',\n",
              " 'A': 'Anindita',\n",
              " 'MA': 'Meelad Armani',\n",
              " 'MM': 'Marwa Musa',\n",
              " 'MD': 'Mohammad Dabbour',\n",
              " 'JC': 'Juned Chhiboo',\n",
              " 'JT': 'Jesso Thomas',\n",
              " 'JH': 'Jason Huang'}"
            ]
          },
          "execution_count": 4,
          "metadata": {},
          "output_type": "execute_result"
        }
      ],
      "source": [
        "#Q4 Find participant's names that start with J,I,M,C,A\n",
        "dic1 ={k: v for k, v in dic.items() if k.startswith(\"C\")}\n",
        "dic2 ={k: v for k, v in dic.items() if k.startswith(\"A\")}\n",
        "dic3={k: v for k, v in dic.items() if k.startswith(\"M\")}\n",
        "dic4={k: v for k, v in dic.items() if k.startswith(\"I\")}\n",
        "dic5={k: v for k, v in dic.items() if k.startswith(\"J\")}\n",
        "dic1.update(dic2)\n",
        "dic1.update(dic3)\n",
        "dic1.update(dic4)\n",
        "dic1.update(dic5)\n",
        "dic1"
      ]
    },
    {
      "cell_type": "code",
      "execution_count": null,
      "id": "a6d3c159",
      "metadata": {
        "id": "a6d3c159",
        "outputId": "581da936-60da-4930-85f9-6ed6d442091f"
      },
      "outputs": [
        {
          "data": {
            "text/plain": [
              "{'AWK': 'Abdul Wahid Khudayar',\n",
              " 'AR': 'Addy Rose',\n",
              " 'AO': 'Anuoluwapo Oluseyi',\n",
              " 'AKH': 'Aravindh Kuppusamy Haridoss',\n",
              " 'CH': 'Carlo Halnin',\n",
              " 'JC': 'Juned Chhiboo',\n",
              " 'CAJ': 'Cici Ann Joji',\n",
              " 'DP': 'DHRUVKUMAR PATEL',\n",
              " 'EK': 'Erkan Kumesogut',\n",
              " 'ER': 'Exaltacao Rodrigues',\n",
              " 'FT': 'fatma tuncalan',\n",
              " 'HK': 'harpreet kaur',\n",
              " 'HOG': 'Harun Omar-Godane',\n",
              " 'HG': 'Hossain Ghahraloud',\n",
              " 'JT': 'Jesso Thomas',\n",
              " 'KM': 'Kamiar Mehmannavazan',\n",
              " 'KS': 'Karthik Sai',\n",
              " 'KGB': 'Kwabena Gyasi-Boateng',\n",
              " 'LR': 'L Reetika',\n",
              " 'MA': 'Meelad Armani',\n",
              " 'MM': 'Marwa Musa',\n",
              " 'MD': 'Mohammad Dabbour',\n",
              " 'PR': 'Pouria Raziei',\n",
              " 'RT': 'Rohan Thomas',\n",
              " 'RFT': 'Robin Francis Thomas',\n",
              " 'RS': 'Ronit Soni',\n",
              " 'SB': 'Sameeha Bala',\n",
              " 'SK': 'Supriya Kanda',\n",
              " 'WC': 'Weslie Chung',\n",
              " 'YFL': 'Ying Fei Li',\n",
              " 'PM': 'Poojan Modi',\n",
              " 'AH': 'Alexander Hailu',\n",
              " 'ES': 'Ekaterina Shalygina',\n",
              " 'NT': 'Nevin Tomy',\n",
              " 'JH': 'Jason Huang',\n",
              " 'A': 'Anindita',\n",
              " 'VP': 'Vrunda Patel',\n",
              " 'SP': 'Sravan Pingali',\n",
              " 'K,PD': 'Kristina'}"
            ]
          },
          "execution_count": 5,
          "metadata": {},
          "output_type": "execute_result"
        }
      ],
      "source": [
        "#Q5 Add the following to your dictionary\n",
        "# Key<(K,PD)>, Value<(Kristina)>\n",
        "dic_newitem = {\"K,PD\":\"Kristina\"}\n",
        "dic.update(dic_newitem)\n",
        "dic"
      ]
    },
    {
      "cell_type": "code",
      "execution_count": null,
      "id": "56a27cb2",
      "metadata": {
        "id": "56a27cb2",
        "outputId": "0771239b-934f-443d-a0de-31437132978a"
      },
      "outputs": [
        {
          "data": {
            "text/plain": [
              "39"
            ]
          },
          "execution_count": 6,
          "metadata": {},
          "output_type": "execute_result"
        }
      ],
      "source": [
        "#Q6 Find the length of your dictionary\n",
        "len(dic)"
      ]
    },
    {
      "cell_type": "code",
      "execution_count": null,
      "id": "30a59196",
      "metadata": {
        "id": "30a59196",
        "outputId": "fd088bf9-3aed-43c4-f161-e2113cda4a6c"
      },
      "outputs": [
        {
          "data": {
            "text/plain": [
              "{'AWK': 'Abdul Wahid Khudayar',\n",
              " 'AR': 'Addy Rose',\n",
              " 'AO': 'Anuoluwapo Oluseyi',\n",
              " 'AKH': 'Aravindh Kuppusamy Haridoss',\n",
              " 'CH': 'Carlo Halnin',\n",
              " 'JC': 'Juned Chhiboo',\n",
              " 'CAJ': 'Cici Ann Joji',\n",
              " 'DP': 'DHRUVKUMAR PATEL',\n",
              " 'EK': 'Erkan Kumesogut',\n",
              " 'ER': 'Exaltacao Rodrigues',\n",
              " 'FT': 'fatma tuncalan',\n",
              " 'HK': 'harpreet kaur',\n",
              " 'HOG': 'Harun Omar-Godane',\n",
              " 'HG': 'Hossain Ghahraloud',\n",
              " 'JT': 'Jesso Thomas',\n",
              " 'KM': 'Kamiar Mehmannavazan',\n",
              " 'KS': 'Karthik Sai',\n",
              " 'KGB': 'Kwabena Gyasi-Boateng',\n",
              " 'LR': 'L Reetika',\n",
              " 'MA': 'Meelad Armani',\n",
              " 'MM': 'Marwa Musa',\n",
              " 'MD': 'Mohammad Dabbour',\n",
              " 'PR': 'Pouria Raziei',\n",
              " 'RT': 'Rohan Thomas',\n",
              " 'RFT': 'Robin Francis Thomas',\n",
              " 'RS': 'Ronit Soni',\n",
              " 'SB': 'Sameeha Bala',\n",
              " 'SK': 'Supriya Kanda',\n",
              " 'WC': 'Weslie Chung',\n",
              " 'YFL': 'Ying Fei Li',\n",
              " 'PM': 'Poojan Modi',\n",
              " 'AH': 'Alexander Hailu',\n",
              " 'ES': 'Ekaterina Shalygina',\n",
              " 'NT': 'Nevin Tomy',\n",
              " 'JH': 'Jason Huang',\n",
              " 'A': 'Anindita',\n",
              " 'VP': 'Vrunda Patel',\n",
              " 'SP': 'Sravan Pingali',\n",
              " 'K,PD': 'Kristina',\n",
              " 'S': 'Instructor',\n",
              " 'J': ' '}"
            ]
          },
          "execution_count": 7,
          "metadata": {},
          "output_type": "execute_result"
        }
      ],
      "source": [
        "#Q7 Delete the following keys from your dictionary\n",
        "#Key<(S,Instructor)>\n",
        "#Key<J>\n",
        "dic_newitem = {\"S\":\"Instructor\",\"J\":\" \"}\n",
        "dic.update(dic_newitem)\n",
        "dic"
      ]
    },
    {
      "cell_type": "code",
      "execution_count": null,
      "id": "d3e8bd2a",
      "metadata": {
        "id": "d3e8bd2a",
        "outputId": "8c1b6603-9144-466f-b37f-9b577206c2b3"
      },
      "outputs": [
        {
          "data": {
            "text/plain": [
              "41"
            ]
          },
          "execution_count": 8,
          "metadata": {},
          "output_type": "execute_result"
        }
      ],
      "source": [
        "#Q9 Find the length of your dictionary\n",
        "len(dic)"
      ]
    },
    {
      "cell_type": "code",
      "execution_count": null,
      "id": "02ce21c7",
      "metadata": {
        "id": "02ce21c7"
      },
      "outputs": [],
      "source": [
        "#Q10 Create a new dictionary called synonyms_dic\n",
        "synonyms_dic={\" \":\" \"}\n"
      ]
    },
    {
      "cell_type": "code",
      "execution_count": null,
      "id": "aaa3f3e4",
      "metadata": {
        "id": "aaa3f3e4",
        "outputId": "936ff754-3422-4c16-9e9e-4edf1e8f4213"
      },
      "outputs": [
        {
          "data": {
            "text/plain": [
              "{'Bad': 'poor',\n",
              " 'Good': 'fine',\n",
              " 'Awesome': 'amazing',\n",
              " 'Cold': 'chilly',\n",
              " 'Easy': 'painless',\n",
              " 'Hard': 'firm',\n",
              " 'Big': 'massive',\n",
              " 'Small': 'tiny'}"
            ]
          },
          "execution_count": 10,
          "metadata": {},
          "output_type": "execute_result"
        }
      ],
      "source": [
        "#Q11 Add the synonyms of the following words to your dictionary\n",
        "#Bad, Good, Awesome, Cold, Easy, Hard, Big, Small\n",
        "synonyms_dic={\"Bad\":\"poor\", \"Good\":\"fine\", \"Awesome\":\"amazing\", \"Cold\":\"chilly\", \"Easy\":\"painless\", \"Hard\":\"firm\", \"Big\":\"massive\", \"Small\":\"tiny\"}\n",
        "synonyms_dic"
      ]
    },
    {
      "cell_type": "code",
      "execution_count": null,
      "id": "363a711e",
      "metadata": {
        "id": "363a711e",
        "outputId": "a196a74b-f6d8-4a41-d532-07ccc2be0bc3"
      },
      "outputs": [
        {
          "name": "stdout",
          "output_type": "stream",
          "text": [
            "amazing\n",
            "painless\n",
            "tiny\n",
            "None\n"
          ]
        }
      ],
      "source": [
        "#Q12 Use your dictionary to find the synonym of the following words\n",
        "# Awesome, Easy, Small, Old\n",
        "print(synonyms_dic.get(\"Awesome\"))\n",
        "print(synonyms_dic.get(\"Easy\"))\n",
        "print(synonyms_dic.get(\"Small\"))\n",
        "print(synonyms_dic.get(\"Old\"))"
      ]
    },
    {
      "cell_type": "code",
      "execution_count": null,
      "id": "b6504e58",
      "metadata": {
        "id": "b6504e58",
        "outputId": "6633e5bd-3ddc-4db6-ad13-a4487b095819"
      },
      "outputs": [
        {
          "name": "stdout",
          "output_type": "stream",
          "text": [
            "dict_values(['poor', 'fine', 'amazing', 'chilly', 'painless', 'firm', 'massive', 'tiny'])\n"
          ]
        }
      ],
      "source": [
        "#Q13 Delete everything from synonyms_dic\n",
        "print(synonyms_dic.values())\n",
        "synonyms_dic.clear()"
      ]
    },
    {
      "cell_type": "code",
      "execution_count": null,
      "id": "708e6321",
      "metadata": {
        "id": "708e6321",
        "outputId": "0e3d44d4-52c6-4429-c471-f5e2ed22b1ef"
      },
      "outputs": [
        {
          "name": "stdout",
          "output_type": "stream",
          "text": [
            "dict_values([])\n"
          ]
        }
      ],
      "source": [
        "#Q14 Print all values in synonyms_dic\n",
        "print(synonyms_dic.values())"
      ]
    },
    {
      "cell_type": "code",
      "execution_count": null,
      "id": "6555237e",
      "metadata": {
        "id": "6555237e",
        "outputId": "ef82d893-82fc-4451-d13a-c7e797a83ce9"
      },
      "outputs": [
        {
          "name": "stdout",
          "output_type": "stream",
          "text": [
            "{'True': 1, 'False': 0}\n"
          ]
        }
      ],
      "source": [
        "#Q15 Convert the below two lists into dictionary\n",
        "#Keys=[\"True\",\"False\"]\n",
        "#Values=[1,0]\n",
        "\n",
        "Keys=[\"True\",\"False\"]\n",
        "Values=[1,0]\n",
        "\n",
        "dictionary = dict(zip(Keys, Values))\n",
        "\n",
        "print(dictionary)"
      ]
    },
    {
      "cell_type": "code",
      "execution_count": null,
      "id": "066708dd",
      "metadata": {
        "id": "066708dd",
        "outputId": "26c8698b-5fe9-452a-e954-0d696503d5e4"
      },
      "outputs": [
        {
          "data": {
            "text/plain": [
              "4480"
            ]
          },
          "execution_count": 15,
          "metadata": {},
          "output_type": "execute_result"
        }
      ],
      "source": [
        "#Q16 Sum all the values in the following dictionary\n",
        "income={'Jan':1000,'Feb':1500,'Mar':980,'April':1000}\n",
        "sum(income.values())"
      ]
    },
    {
      "cell_type": "code",
      "execution_count": null,
      "id": "006008d7",
      "metadata": {
        "id": "006008d7",
        "outputId": "38526939-cf4a-4dee-fde9-69f9e0d30978"
      },
      "outputs": [
        {
          "name": "stdout",
          "output_type": "stream",
          "text": [
            "encryption word of 110 is I\n",
            "encryption word of 101 is am\n",
            "encryption word of 10 is hungry\n",
            "encryption word of 1011 is and\n",
            "encryption word of 110 is I\n",
            "encryption word of 1001 is want\n",
            "encryption word of 1101 is food\n",
            "encryption word of 11011 is now\n"
          ]
        }
      ],
      "source": [
        "#Q17 Create the following dictionary encryption={10:\"hungry\", 101:\"am\", 110:\"I\",1011:\" \" 110:\" \" 1001:\" \" 1:\" \"}\n",
        "# What should be the decryption of the following code \"110 101 10 1011 110 1001 1\"\n",
        "encryption={10:\"hungry\", 101:\"am\", 1001:\"want\",1101:\"food\",110:\"I\",1011:\"and\", 11011:\"now\"}\n",
        "keys = [ 110, 101, 10, 1011, 110, 1001, 1101, 11011]\n",
        "\n",
        "for key in keys:\n",
        "    print(\"encryption word of {} is\".format(key) + \" \" + encryption[key])\n"
      ]
    }
  ],
  "metadata": {
    "kernelspec": {
      "display_name": "Python 3",
      "language": "python",
      "name": "python3"
    },
    "language_info": {
      "codemirror_mode": {
        "name": "ipython",
        "version": 3
      },
      "file_extension": ".py",
      "mimetype": "text/x-python",
      "name": "python",
      "nbconvert_exporter": "python",
      "pygments_lexer": "ipython3",
      "version": "3.8.8"
    },
    "colab": {
      "provenance": [],
      "include_colab_link": true
    }
  },
  "nbformat": 4,
  "nbformat_minor": 5
}